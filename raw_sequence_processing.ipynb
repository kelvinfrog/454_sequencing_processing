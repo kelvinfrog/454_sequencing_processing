{
 "cells": [
  {
   "cell_type": "markdown",
   "metadata": {},
   "source": [
    "# Count Number of Reads in the Fasta File"
   ]
  },
  {
   "cell_type": "code",
   "execution_count": 26,
   "metadata": {
    "collapsed": false
   },
   "outputs": [
    {
     "name": "stdout",
     "output_type": "stream",
     "text": [
      "34584 reads\n"
     ]
    }
   ],
   "source": [
    "from Bio import SeqIO\n",
    "original_reads = SeqIO.parse(\"TCA454Reads.fna\", \"fasta\")\n",
    "\n",
    "total_count = 0\n",
    "for rec in original_reads:\n",
    "    total_count += 1\n",
    "\n",
    "print(\"%i reads\" % total_count)"
   ]
  },
  {
   "cell_type": "markdown",
   "metadata": {},
   "source": [
    "# Remove barcode, number of sequences assigned to each sample, percentage that were not assigned"
   ]
  },
  {
   "cell_type": "code",
   "execution_count": 27,
   "metadata": {
    "collapsed": false
   },
   "outputs": [
    {
     "data": {
      "text/plain": [
       "{'Sample_1': 'CAGTCAGT',\n",
       " 'Sample_10': 'CTACGATG',\n",
       " 'Sample_11': 'GACACTCA',\n",
       " 'Sample_12': 'GAGTACAG',\n",
       " 'Sample_13': 'GCATATCG',\n",
       " 'Sample_14': 'GCTACGTA',\n",
       " 'Sample_15': 'GTACACGT',\n",
       " 'Sample_16': 'TACGATCG',\n",
       " 'Sample_17': 'TAGCGCAT',\n",
       " 'Sample_18': 'TCACTGTC',\n",
       " 'Sample_19': 'TCTGTGAG',\n",
       " 'Sample_2': 'ACACACTG',\n",
       " 'Sample_20': 'TGAGTCAC',\n",
       " 'Sample_21': 'ACAGACTC',\n",
       " 'Sample_22': 'ACTGCTGA',\n",
       " 'Sample_3': 'ACGACATC',\n",
       " 'Sample_4': 'AGACACTC',\n",
       " 'Sample_5': 'ATATCGCG',\n",
       " 'Sample_6': 'ATCGATGC',\n",
       " 'Sample_7': 'CACTACAG',\n",
       " 'Sample_8': 'CGATATGC',\n",
       " 'Sample_9': 'CGTACGAT'}"
      ]
     },
     "execution_count": 27,
     "metadata": {},
     "output_type": "execute_result"
    }
   ],
   "source": [
    "#Create a dictionary for the barcode\n",
    "import csv\n",
    "import operator \n",
    "from operator import itemgetter\n",
    "from natsort import natsorted, ns\n",
    "\n",
    "with open('barcodes.txt') as f:\n",
    "    reader = csv.reader(f, delimiter=\"\\t\")\n",
    "    bar_dict = dict(list(reader))\n",
    "\n",
    "bar_dict = { k:v.strip() for k, v in bar_dict.iteritems()}\n",
    "bar_dict"
   ]
  },
  {
   "cell_type": "code",
   "execution_count": 28,
   "metadata": {
    "collapsed": false
   },
   "outputs": [],
   "source": [
    "#Remove unbarcoded samples and count number of reads per sample\n",
    "sample_count = {}\n",
    "\n",
    "for key, value in bar_dict.iteritems():\n",
    "    bar_trim = (rec[9:] for rec in \\\n",
    "                SeqIO.parse(\"TCA454Reads.fna\", \"fasta\") \\\n",
    "                if rec.seq.startswith(value))\n",
    "    fastafile = key + \".fasta\"\n",
    "    count = SeqIO.write(bar_trim, fastafile, \"fasta\")\n",
    "    sample_count[key] = count"
   ]
  },
  {
   "cell_type": "code",
   "execution_count": 29,
   "metadata": {
    "collapsed": false
   },
   "outputs": [
    {
     "data": {
      "text/plain": [
       "[('Sample_1', 661),\n",
       " ('Sample_2', 902),\n",
       " ('Sample_3', 1026),\n",
       " ('Sample_4', 2072),\n",
       " ('Sample_5', 1092),\n",
       " ('Sample_6', 588),\n",
       " ('Sample_7', 1788),\n",
       " ('Sample_8', 1038),\n",
       " ('Sample_9', 1608),\n",
       " ('Sample_10', 843),\n",
       " ('Sample_11', 3585),\n",
       " ('Sample_12', 1412),\n",
       " ('Sample_13', 1187),\n",
       " ('Sample_14', 499),\n",
       " ('Sample_15', 2851),\n",
       " ('Sample_16', 769),\n",
       " ('Sample_17', 656),\n",
       " ('Sample_18', 811),\n",
       " ('Sample_19', 6597),\n",
       " ('Sample_20', 2035),\n",
       " ('Sample_21', 1525),\n",
       " ('Sample_22', 339)]"
      ]
     },
     "execution_count": 29,
     "metadata": {},
     "output_type": "execute_result"
    }
   ],
   "source": [
    "natsorted(sample_count.items(), key=lambda t: t[0])"
   ]
  },
  {
   "cell_type": "code",
   "execution_count": 30,
   "metadata": {
    "collapsed": false
   },
   "outputs": [
    {
     "name": "stdout",
     "output_type": "stream",
     "text": [
      "2 percent of raw reads is not assigned because no barcode matched\n"
     ]
    }
   ],
   "source": [
    "percent_no_assign = (1-float(sum(sample_count.values()))/float(total_count))*100\n",
    "print(\"%i percent of raw reads is not assigned because no barcode matched\" % percent_no_assign)"
   ]
  },
  {
   "cell_type": "markdown",
   "metadata": {
    "collapsed": false
   },
   "source": [
    "# Remove primers, sequence with more than 2Ns, short than 200bps"
   ]
  },
  {
   "cell_type": "code",
   "execution_count": 31,
   "metadata": {
    "collapsed": false
   },
   "outputs": [
    {
     "data": {
      "text/plain": [
       "['Sample_1.fasta',\n",
       " 'Sample_2.fasta',\n",
       " 'Sample_3.fasta',\n",
       " 'Sample_4.fasta',\n",
       " 'Sample_5.fasta',\n",
       " 'Sample_6.fasta',\n",
       " 'Sample_7.fasta',\n",
       " 'Sample_8.fasta',\n",
       " 'Sample_9.fasta',\n",
       " 'Sample_10.fasta',\n",
       " 'Sample_11.fasta',\n",
       " 'Sample_12.fasta',\n",
       " 'Sample_13.fasta',\n",
       " 'Sample_14.fasta',\n",
       " 'Sample_15.fasta',\n",
       " 'Sample_16.fasta',\n",
       " 'Sample_17.fasta',\n",
       " 'Sample_18.fasta',\n",
       " 'Sample_19.fasta',\n",
       " 'Sample_20.fasta',\n",
       " 'Sample_21.fasta',\n",
       " 'Sample_22.fasta']"
      ]
     },
     "execution_count": 31,
     "metadata": {},
     "output_type": "execute_result"
    }
   ],
   "source": [
    "#create a fasta file list\n",
    "final_sample_fasta=[]\n",
    "for i in bar_dict.keys(): \n",
    "    sample_fasta = i+\".fasta\"\n",
    "    final_sample_fasta.append(sample_fasta)\n",
    "final_sample_fasta = natsorted(final_sample_fasta)\n",
    "final_sample_fasta"
   ]
  },
  {
   "cell_type": "code",
   "execution_count": 32,
   "metadata": {
    "collapsed": false
   },
   "outputs": [
    {
     "data": {
      "text/plain": [
       "[('Sample_1', 8),\n",
       " ('Sample_2', 12),\n",
       " ('Sample_3', 13),\n",
       " ('Sample_4', 15),\n",
       " ('Sample_5', 11),\n",
       " ('Sample_6', 1),\n",
       " ('Sample_7', 12),\n",
       " ('Sample_8', 1),\n",
       " ('Sample_9', 6),\n",
       " ('Sample_10', 4),\n",
       " ('Sample_11', 24),\n",
       " ('Sample_12', 0),\n",
       " ('Sample_13', 5),\n",
       " ('Sample_14', 3),\n",
       " ('Sample_15', 0),\n",
       " ('Sample_16', 0),\n",
       " ('Sample_17', 2),\n",
       " ('Sample_18', 3),\n",
       " ('Sample_19', 1),\n",
       " ('Sample_20', 15),\n",
       " ('Sample_21', 13),\n",
       " ('Sample_22', 9)]"
      ]
     },
     "execution_count": 32,
     "metadata": {},
     "output_type": "execute_result"
    }
   ],
   "source": [
    "#filter sequence quality based on the exact primer sequence match\n",
    "trim_count_list = []\n",
    "\n",
    "for fasta in final_sample_fasta:\n",
    "    primer_trim = (rec for rec in \\\n",
    "                    SeqIO.parse(fasta, 'fasta') \\\n",
    "                    if rec.seq.startswith('AATAGTAGCCAG'))\n",
    "    trimfile = 'primer_trim_' + fasta\n",
    "    trim_count = SeqIO.write(primer_trim, trimfile, \"fasta\")\n",
    "    trim_count_list.append(trim_count)\n",
    "trim_count_dict = dict(zip(natsorted(bar_dict.keys()), trim_count_list))\n",
    "natsorted(trim_count_dict.items(), key=lambda t: t[0])"
   ]
  },
  {
   "cell_type": "code",
   "execution_count": 7,
   "metadata": {
    "collapsed": false
   },
   "outputs": [
    {
     "data": {
      "text/plain": [
       "[('Sample_1', 8),\n",
       " ('Sample_2', 8),\n",
       " ('Sample_3', 6),\n",
       " ('Sample_4', 3),\n",
       " ('Sample_5', 9),\n",
       " ('Sample_6', 0),\n",
       " ('Sample_7', 9),\n",
       " ('Sample_8', 1),\n",
       " ('Sample_9', 5),\n",
       " ('Sample_10', 2),\n",
       " ('Sample_11', 0),\n",
       " ('Sample_12', 0),\n",
       " ('Sample_13', 0),\n",
       " ('Sample_14', 3),\n",
       " ('Sample_15', 0),\n",
       " ('Sample_16', 0),\n",
       " ('Sample_17', 0),\n",
       " ('Sample_18', 0),\n",
       " ('Sample_19', 0),\n",
       " ('Sample_20', 8),\n",
       " ('Sample_21', 5),\n",
       " ('Sample_22', 9)]"
      ]
     },
     "execution_count": 7,
     "metadata": {},
     "output_type": "execute_result"
    }
   ],
   "source": [
    "#filter sequence quality based on the exact primer sequence match, sequence length > 200, and no more than 2'N'\n",
    "trim_count_list = []\n",
    "\n",
    "for fasta in final_sample_fasta:\n",
    "    primer_trim = (rec for rec in \\\n",
    "                    SeqIO.parse(fasta, 'fasta') \\\n",
    "                    if rec.seq.startswith('AATAGTAGCCAG') and len(rec.seq) > 200 and rec.seq.count('N') <= 2 )\n",
    "    trimfile = 'primer_trim_' + fasta\n",
    "    trim_count = SeqIO.write(primer_trim, trimfile, \"fasta\")\n",
    "    trim_count_list.append(trim_count)\n",
    "trim_count_dict = dict(zip(natsorted(bar_dict.keys()), trim_count_list))\n",
    "natsorted(trim_count_dict.items(), key=lambda t: t[0])"
   ]
  },
  {
   "cell_type": "code",
   "execution_count": 8,
   "metadata": {
    "collapsed": false
   },
   "outputs": [
    {
     "name": "stdout",
     "output_type": "stream",
     "text": [
      "99 percent of raw reads is removed due to no exact primer matched, shorter than 200bps and having more than 2 Ns\n",
      "Only 76 reads are kept after quality filtering\n"
     ]
    }
   ],
   "source": [
    "total_read_remain = sum(trim_count_dict.values())\n",
    "percent_no_assign_b = (1-float(sum(trim_count_dict.values()))/float(total_count))*100\n",
    "\n",
    "print(\"%i percent of raw reads is removed due to no exact primer matched, shorter than 200bps and having more than 2 Ns\" % percent_no_assign_b)\n",
    "\n",
    "print(\"Only %i reads are kept after quality filtering\" % total_read_remain)"
   ]
  },
  {
   "cell_type": "markdown",
   "metadata": {},
   "source": [
    "# Mutation Analysis"
   ]
  },
  {
   "cell_type": "code",
   "execution_count": 9,
   "metadata": {
    "collapsed": false
   },
   "outputs": [],
   "source": [
    "#Make a list of sample that have reads after quality filtering\n",
    "sample_filter_list = {k for k, v in trim_count_dict.iteritems()\\\n",
    "                      if v != 0}\n",
    "\n",
    "#Make a list of sample fasta files that have reads after quality filtering\n",
    "qc_pass_fasta=[]\n",
    "for i in sample_filter_list: \n",
    "    qc_fasta = \"primer_trim_\"+i+\".fasta\"\n",
    "    qc_pass_fasta.append(qc_fasta)\n",
    "qc_pass_fasta = natsorted(qc_pass_fasta)"
   ]
  },
  {
   "cell_type": "code",
   "execution_count": 10,
   "metadata": {
    "collapsed": false
   },
   "outputs": [],
   "source": [
    "#Make a list of nucleotide of position 27 and 40 from the reads in qc_pass_fasta\n",
    "list1=[]\n",
    "list2=[]\n",
    "\n",
    "for i in qc_pass_fasta:\n",
    "    for rec in SeqIO.parse(i, 'fasta'):\n",
    "        bb = rec.seq[27]+rec.seq[40]\n",
    "        list1.append(bb)\n",
    "    list2.append(list1)\n",
    "    list1=[]"
   ]
  },
  {
   "cell_type": "code",
   "execution_count": 11,
   "metadata": {
    "collapsed": false
   },
   "outputs": [
    {
     "data": {
      "text/plain": [
       "[('Sample_1', ['CG', 'GG', 'GG', 'AA', 'GG', 'GG', 'GG', 'GG']),\n",
       " ('Sample_2', ['GG', 'GG', 'GG', 'GG', 'GG', 'GC', 'AA', 'GG']),\n",
       " ('Sample_3', ['GG', 'GG', 'GG', 'GG', 'GG', 'GA']),\n",
       " ('Sample_4', ['CA', 'GG', 'AA']),\n",
       " ('Sample_5', ['GG', 'GG', 'GA', 'GG', 'GA', 'GG', 'AA', 'GG', 'GG']),\n",
       " ('Sample_7', ['GG', 'GA', 'GG', 'GA', 'AA', 'GG', 'GA', 'GG', 'GA']),\n",
       " ('Sample_8', ['GA']),\n",
       " ('Sample_9', ['GG', 'GG', 'GA', 'GG', 'GA']),\n",
       " ('Sample_10', ['AA', 'GA']),\n",
       " ('Sample_14', ['GG', 'GG', 'GA']),\n",
       " ('Sample_20', ['AA', 'AA', 'GA', 'CA', 'GA', 'GG', 'CG', 'GG']),\n",
       " ('Sample_21', ['GG', 'AA', 'GG', 'CG', 'GA']),\n",
       " ('Sample_22', ['GG', 'GA', 'GC', 'AA', 'GG', 'GG', 'GG', 'GA', 'GG'])]"
      ]
     },
     "execution_count": 11,
     "metadata": {},
     "output_type": "execute_result"
    }
   ],
   "source": [
    "#Make a dictionary from sample and nucleotide lists\n",
    "mutate_dict = dict(zip(natsorted(sample_filter_list), list2))\n",
    "natsorted(mutate_dict.items(), key=lambda t: t[0])"
   ]
  },
  {
   "cell_type": "code",
   "execution_count": 12,
   "metadata": {
    "collapsed": false
   },
   "outputs": [
    {
     "name": "stderr",
     "output_type": "stream",
     "text": [
      "/anaconda/lib/python2.7/site-packages/ipykernel/__main__.py:10: FutureWarning: sort(columns=....) is deprecated, use sort_values(by=.....)\n"
     ]
    },
    {
     "data": {
      "text/html": [
       "<div>\n",
       "<table border=\"1\" class=\"dataframe\">\n",
       "  <thead>\n",
       "    <tr style=\"text-align: right;\">\n",
       "      <th></th>\n",
       "      <th>Sample</th>\n",
       "      <th>Mutation</th>\n",
       "    </tr>\n",
       "  </thead>\n",
       "  <tbody>\n",
       "    <tr>\n",
       "      <th>0</th>\n",
       "      <td>Sample_1</td>\n",
       "      <td>CG</td>\n",
       "    </tr>\n",
       "    <tr>\n",
       "      <th>1</th>\n",
       "      <td>Sample_1</td>\n",
       "      <td>GG</td>\n",
       "    </tr>\n",
       "    <tr>\n",
       "      <th>2</th>\n",
       "      <td>Sample_1</td>\n",
       "      <td>GG</td>\n",
       "    </tr>\n",
       "    <tr>\n",
       "      <th>3</th>\n",
       "      <td>Sample_1</td>\n",
       "      <td>AA</td>\n",
       "    </tr>\n",
       "    <tr>\n",
       "      <th>4</th>\n",
       "      <td>Sample_1</td>\n",
       "      <td>GG</td>\n",
       "    </tr>\n",
       "    <tr>\n",
       "      <th>5</th>\n",
       "      <td>Sample_1</td>\n",
       "      <td>GG</td>\n",
       "    </tr>\n",
       "    <tr>\n",
       "      <th>6</th>\n",
       "      <td>Sample_1</td>\n",
       "      <td>GG</td>\n",
       "    </tr>\n",
       "    <tr>\n",
       "      <th>7</th>\n",
       "      <td>Sample_1</td>\n",
       "      <td>GG</td>\n",
       "    </tr>\n",
       "    <tr>\n",
       "      <th>32</th>\n",
       "      <td>Sample_2</td>\n",
       "      <td>GC</td>\n",
       "    </tr>\n",
       "    <tr>\n",
       "      <th>31</th>\n",
       "      <td>Sample_2</td>\n",
       "      <td>GG</td>\n",
       "    </tr>\n",
       "    <tr>\n",
       "      <th>30</th>\n",
       "      <td>Sample_2</td>\n",
       "      <td>GG</td>\n",
       "    </tr>\n",
       "    <tr>\n",
       "      <th>29</th>\n",
       "      <td>Sample_2</td>\n",
       "      <td>GG</td>\n",
       "    </tr>\n",
       "    <tr>\n",
       "      <th>28</th>\n",
       "      <td>Sample_2</td>\n",
       "      <td>GG</td>\n",
       "    </tr>\n",
       "    <tr>\n",
       "      <th>34</th>\n",
       "      <td>Sample_2</td>\n",
       "      <td>GG</td>\n",
       "    </tr>\n",
       "    <tr>\n",
       "      <th>33</th>\n",
       "      <td>Sample_2</td>\n",
       "      <td>AA</td>\n",
       "    </tr>\n",
       "  </tbody>\n",
       "</table>\n",
       "</div>"
      ],
      "text/plain": [
       "      Sample Mutation\n",
       "0   Sample_1       CG\n",
       "1   Sample_1       GG\n",
       "2   Sample_1       GG\n",
       "3   Sample_1       AA\n",
       "4   Sample_1       GG\n",
       "5   Sample_1       GG\n",
       "6   Sample_1       GG\n",
       "7   Sample_1       GG\n",
       "32  Sample_2       GC\n",
       "31  Sample_2       GG\n",
       "30  Sample_2       GG\n",
       "29  Sample_2       GG\n",
       "28  Sample_2       GG\n",
       "34  Sample_2       GG\n",
       "33  Sample_2       AA"
      ]
     },
     "execution_count": 12,
     "metadata": {},
     "output_type": "execute_result"
    }
   ],
   "source": [
    "#Convert mutate_dict to mutate table for data analysis and graphing\n",
    "import pandas as pd\n",
    "\n",
    "mutate_table = pd.DataFrame(dict([ (k,pd.Series(v)) for k,v in mutate_dict.iteritems() ]))\n",
    "mutate_table = pd.melt(mutate_table, var_name=\"Sample\", value_name=\"Mutation\")\n",
    "mutate_table = mutate_table.dropna()\n",
    "\n",
    "def nat_sort_column(table, series):\n",
    "    table['indexNumber'] = [int(i.split('_')[-1]) for i in series]\n",
    "    table.sort(['indexNumber'], ascending = [True], inplace = True)\n",
    "    table.drop('indexNumber', 1, inplace = True)\n",
    "    return table\n",
    "    \n",
    "mutate_table = nat_sort_column(table=mutate_table, series=mutate_table['Sample'])\n",
    "mutate_table.head(15)"
   ]
  },
  {
   "cell_type": "code",
   "execution_count": 13,
   "metadata": {
    "collapsed": false
   },
   "outputs": [
    {
     "name": "stderr",
     "output_type": "stream",
     "text": [
      "/anaconda/lib/python2.7/site-packages/ipykernel/__main__.py:10: FutureWarning: sort(columns=....) is deprecated, use sort_values(by=.....)\n"
     ]
    },
    {
     "data": {
      "image/png": "[encoded data removed]",
      "text/plain": [
       "<matplotlib.figure.Figure at 0x10ffbd810>"
      ]
     },
     "metadata": {},
     "output_type": "display_data"
    }
   ],
   "source": [
    "import matplotlib.pyplot as plt\n",
    "import seaborn as sns\n",
    "%matplotlib inline\n",
    "\n",
    "unqiue_mutation = pd.DataFrame(mutate_table.groupby('Sample').Mutation.nunique(), index=None)\n",
    "unqiue_mutation = nat_sort_column(table = unqiue_mutation, series=unqiue_mutation.index)\n",
    "\n",
    "unique_base = sns.barplot(x=\"Mutation\", y=unqiue_mutation.index,data=unqiue_mutation)\n",
    "unique_base.axes.set_title(\"Number of Unique base combination\",fontsize=15)\n",
    "unique_base.set_xlabel(\"Number\",fontsize=15)\n",
    "unique_base.set_ylabel(\"Sample\",fontsize=15)\n",
    "unique_base.tick_params(labelsize=10)\n",
    "sns.plt.show()"
   ]
  },
  {
   "cell_type": "code",
   "execution_count": 14,
   "metadata": {
    "collapsed": false
   },
   "outputs": [
    {
     "data": {
      "image/png": "[encoded data removed]",
      "text/plain": [
       "<matplotlib.figure.Figure at 0x1144a2610>"
      ]
     },
     "metadata": {},
     "output_type": "display_data"
    }
   ],
   "source": [
    "a4_dims = (12, 8.5)\n",
    "fig, ax = plt.subplots(figsize=a4_dims)\n",
    "\n",
    "mutate = sns.countplot(x='Mutation', hue='Sample', data=mutate_table, palette=\"Set3\", ax = ax)\n",
    "mutate.axes.set_title(\"Number of bases combination for each sample\",fontsize=30)\n",
    "mutate.set_xlabel(\"Bases Combination\",fontsize=20)\n",
    "mutate.set_ylabel(\"Frequency\",fontsize=20)\n",
    "mutate.tick_params(labelsize=15)\n",
    "plt.legend(loc='upper right')\n",
    "sns.plt.show()"
   ]
  },
  {
   "cell_type": "code",
   "execution_count": 25,
   "metadata": {
    "collapsed": false
   },
   "outputs": [
    {
     "data": {
      "image/png": "[encoded data removed]",
      "text/plain": [
       "<matplotlib.figure.Figure at 0x1183ec250>"
      ]
     },
     "metadata": {},
     "output_type": "display_data"
    }
   ],
   "source": [
    "fig = sns.FacetGrid(data=mutate_table,col='Mutation',palette='Set1',size=5,aspect=1, col_wrap=2)\n",
    "count_plot = fig.map(sns.countplot,'Sample', order=mutate_table.Sample.unique()).add_legend()\n",
    "count_plot.set_xlabels('')\n",
    "for ax in count_plot.axes:\n",
    "    plt.setp(ax.get_xticklabels(), visible=True, fontsize=12, rotation=90)\n",
    "plt.subplots_adjust(hspace=0.3)\n",
    "plt.show()"
   ]
  },
  {
   "cell_type": "code",
   "execution_count": null,
   "metadata": {
    "collapsed": false
   },
   "outputs": [],
   "source": []
  },
  {
   "cell_type": "code",
   "execution_count": null,
   "metadata": {
    "collapsed": true
   },
   "outputs": [],
   "source": []
  }
 ],
 "metadata": {
  "anaconda-cloud": {},
  "kernelspec": {
   "display_name": "Python [conda root]",
   "language": "python",
   "name": "conda-root-py"
  },
  "language_info": {
   "codemirror_mode": {
    "name": "ipython",
    "version": 2
   },
   "file_extension": ".py",
   "mimetype": "text/x-python",
   "name": "python",
   "nbconvert_exporter": "python",
   "pygments_lexer": "ipython2",
   "version": "2.7.12"
  }
 },
 "nbformat": 4,
 "nbformat_minor": 2
}
